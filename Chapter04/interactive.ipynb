{
  "nbformat": 4,
  "nbformat_minor": 0,
  "metadata": {
    "kernelspec": {
      "name": "python3",
      "display_name": "Python 3"
    },
    "language_info": {
      "codemirror_mode": {
        "name": "ipython",
        "version": 3
      },
      "file_extension": ".py",
      "mimetype": "text/x-python",
      "name": "python",
      "nbconvert_exporter": "python",
      "pygments_lexer": "ipython3",
      "version": "3.7.3"
    },
    "colab": {
      "name": "interactive.ipynb",
      "provenance": [],
      "collapsed_sections": []
    },
    "accelerator": "GPU",
    "widgets": {
      "application/vnd.jupyter.widget-state+json": {
        "b6962ffde86b4b3e8c30f3426520a179": {
          "model_module": "@jupyter-widgets/controls",
          "model_name": "FloatRangeSliderModel",
          "state": {
            "_view_name": "FloatRangeSliderView",
            "style": "IPY_MODEL_c78b7b2541b846df94facbe158282a42",
            "_dom_classes": [],
            "description": "X-Range: ",
            "step": 0.1,
            "_model_name": "FloatRangeSliderModel",
            "orientation": "horizontal",
            "max": 10,
            "_view_module": "@jupyter-widgets/controls",
            "_model_module_version": "1.5.0",
            "value": [
              0.3,
              7.7
            ],
            "_view_count": null,
            "disabled": false,
            "_view_module_version": "1.5.0",
            "min": 0,
            "continuous_update": true,
            "readout_format": ".1f",
            "description_tooltip": null,
            "readout": true,
            "_model_module": "@jupyter-widgets/controls",
            "layout": "IPY_MODEL_b9e256133b804ece927ecaf8ed7126cb"
          }
        },
        "c78b7b2541b846df94facbe158282a42": {
          "model_module": "@jupyter-widgets/controls",
          "model_name": "SliderStyleModel",
          "state": {
            "_view_name": "StyleView",
            "handle_color": null,
            "_model_name": "SliderStyleModel",
            "description_width": "",
            "_view_module": "@jupyter-widgets/base",
            "_model_module_version": "1.5.0",
            "_view_count": null,
            "_view_module_version": "1.2.0",
            "_model_module": "@jupyter-widgets/controls"
          }
        },
        "b9e256133b804ece927ecaf8ed7126cb": {
          "model_module": "@jupyter-widgets/base",
          "model_name": "LayoutModel",
          "state": {
            "_view_name": "LayoutView",
            "grid_template_rows": null,
            "right": null,
            "justify_content": null,
            "_view_module": "@jupyter-widgets/base",
            "overflow": null,
            "_model_module_version": "1.2.0",
            "_view_count": null,
            "flex_flow": null,
            "width": null,
            "min_width": null,
            "border": null,
            "align_items": null,
            "bottom": null,
            "_model_module": "@jupyter-widgets/base",
            "top": null,
            "grid_column": null,
            "overflow_y": null,
            "overflow_x": null,
            "grid_auto_flow": null,
            "grid_area": null,
            "grid_template_columns": null,
            "flex": null,
            "_model_name": "LayoutModel",
            "justify_items": null,
            "grid_row": null,
            "max_height": null,
            "align_content": null,
            "visibility": null,
            "align_self": null,
            "height": null,
            "min_height": null,
            "padding": null,
            "grid_auto_rows": null,
            "grid_gap": null,
            "max_width": null,
            "order": null,
            "_view_module_version": "1.2.0",
            "grid_template_areas": null,
            "object_position": null,
            "object_fit": null,
            "grid_auto_columns": null,
            "margin": null,
            "display": null,
            "left": null
          }
        },
        "cd883016a8b147ffa62f1e86bc91eccb": {
          "model_module": "@jupyter-widgets/controls",
          "model_name": "FloatRangeSliderModel",
          "state": {
            "_view_name": "FloatRangeSliderView",
            "style": "IPY_MODEL_d8cc6d5614a343e892a10b3759e3976c",
            "_dom_classes": [],
            "description": "Y-Range: ",
            "step": 0.1,
            "_model_name": "FloatRangeSliderModel",
            "orientation": "horizontal",
            "max": 10,
            "_view_module": "@jupyter-widgets/controls",
            "_model_module_version": "1.5.0",
            "value": [
              1.2,
              5.4
            ],
            "_view_count": null,
            "disabled": false,
            "_view_module_version": "1.5.0",
            "min": 0,
            "continuous_update": true,
            "readout_format": ".1f",
            "description_tooltip": null,
            "readout": true,
            "_model_module": "@jupyter-widgets/controls",
            "layout": "IPY_MODEL_496afabf093244ae98a74dd5357c868f"
          }
        },
        "d8cc6d5614a343e892a10b3759e3976c": {
          "model_module": "@jupyter-widgets/controls",
          "model_name": "SliderStyleModel",
          "state": {
            "_view_name": "StyleView",
            "handle_color": null,
            "_model_name": "SliderStyleModel",
            "description_width": "",
            "_view_module": "@jupyter-widgets/base",
            "_model_module_version": "1.5.0",
            "_view_count": null,
            "_view_module_version": "1.2.0",
            "_model_module": "@jupyter-widgets/controls"
          }
        },
        "496afabf093244ae98a74dd5357c868f": {
          "model_module": "@jupyter-widgets/base",
          "model_name": "LayoutModel",
          "state": {
            "_view_name": "LayoutView",
            "grid_template_rows": null,
            "right": null,
            "justify_content": null,
            "_view_module": "@jupyter-widgets/base",
            "overflow": null,
            "_model_module_version": "1.2.0",
            "_view_count": null,
            "flex_flow": null,
            "width": null,
            "min_width": null,
            "border": null,
            "align_items": null,
            "bottom": null,
            "_model_module": "@jupyter-widgets/base",
            "top": null,
            "grid_column": null,
            "overflow_y": null,
            "overflow_x": null,
            "grid_auto_flow": null,
            "grid_area": null,
            "grid_template_columns": null,
            "flex": null,
            "_model_name": "LayoutModel",
            "justify_items": null,
            "grid_row": null,
            "max_height": null,
            "align_content": null,
            "visibility": null,
            "align_self": null,
            "height": null,
            "min_height": null,
            "padding": null,
            "grid_auto_rows": null,
            "grid_gap": null,
            "max_width": null,
            "order": null,
            "_view_module_version": "1.2.0",
            "grid_template_areas": null,
            "object_position": null,
            "object_fit": null,
            "grid_auto_columns": null,
            "margin": null,
            "display": null,
            "left": null
          }
        },
        "8fa927c081a047dbb0315941398367a8": {
          "model_module": "@jupyter-widgets/controls",
          "model_name": "ToggleButtonModel",
          "state": {
            "_view_name": "ToggleButtonView",
            "style": "IPY_MODEL_a9fe084dd17444559d69eef288272469",
            "_dom_classes": [],
            "description": "Show Species",
            "_model_name": "ToggleButtonModel",
            "button_style": "",
            "_view_module": "@jupyter-widgets/controls",
            "_model_module_version": "1.5.0",
            "tooltip": "",
            "_view_count": null,
            "disabled": false,
            "_view_module_version": "1.5.0",
            "value": true,
            "description_tooltip": null,
            "_model_module": "@jupyter-widgets/controls",
            "layout": "IPY_MODEL_39342e7201cc45b68146035c7c11ad81",
            "icon": ""
          }
        },
        "a9fe084dd17444559d69eef288272469": {
          "model_module": "@jupyter-widgets/controls",
          "model_name": "DescriptionStyleModel",
          "state": {
            "_view_name": "StyleView",
            "_model_name": "DescriptionStyleModel",
            "description_width": "",
            "_view_module": "@jupyter-widgets/base",
            "_model_module_version": "1.5.0",
            "_view_count": null,
            "_view_module_version": "1.2.0",
            "_model_module": "@jupyter-widgets/controls"
          }
        },
        "39342e7201cc45b68146035c7c11ad81": {
          "model_module": "@jupyter-widgets/base",
          "model_name": "LayoutModel",
          "state": {
            "_view_name": "LayoutView",
            "grid_template_rows": null,
            "right": null,
            "justify_content": null,
            "_view_module": "@jupyter-widgets/base",
            "overflow": null,
            "_model_module_version": "1.2.0",
            "_view_count": null,
            "flex_flow": null,
            "width": null,
            "min_width": null,
            "border": null,
            "align_items": null,
            "bottom": null,
            "_model_module": "@jupyter-widgets/base",
            "top": null,
            "grid_column": null,
            "overflow_y": null,
            "overflow_x": null,
            "grid_auto_flow": null,
            "grid_area": null,
            "grid_template_columns": null,
            "flex": null,
            "_model_name": "LayoutModel",
            "justify_items": null,
            "grid_row": null,
            "max_height": null,
            "align_content": null,
            "visibility": null,
            "align_self": null,
            "height": null,
            "min_height": null,
            "padding": null,
            "grid_auto_rows": null,
            "grid_gap": null,
            "max_width": null,
            "order": null,
            "_view_module_version": "1.2.0",
            "grid_template_areas": null,
            "object_position": null,
            "object_fit": null,
            "grid_auto_columns": null,
            "margin": null,
            "display": null,
            "left": null
          }
        },
        "93c1de18d0244c1184d7b7ac05e11522": {
          "model_module": "@jupyter-widgets/controls",
          "model_name": "DropdownModel",
          "state": {
            "_options_labels": [
              "Sepal Length",
              "Sepal Width",
              "Petal Length",
              "Petal Width"
            ],
            "_view_name": "DropdownView",
            "style": "IPY_MODEL_c9da6a4df77642da918fff628e36aa83",
            "_dom_classes": [],
            "description": "X-Axis:",
            "_model_name": "DropdownModel",
            "index": 0,
            "_view_module": "@jupyter-widgets/controls",
            "_model_module_version": "1.5.0",
            "_view_count": null,
            "disabled": false,
            "_view_module_version": "1.5.0",
            "description_tooltip": null,
            "_model_module": "@jupyter-widgets/controls",
            "layout": "IPY_MODEL_bc33d9ac837b4a1c98402f6904780b44"
          }
        },
        "c9da6a4df77642da918fff628e36aa83": {
          "model_module": "@jupyter-widgets/controls",
          "model_name": "DescriptionStyleModel",
          "state": {
            "_view_name": "StyleView",
            "_model_name": "DescriptionStyleModel",
            "description_width": "",
            "_view_module": "@jupyter-widgets/base",
            "_model_module_version": "1.5.0",
            "_view_count": null,
            "_view_module_version": "1.2.0",
            "_model_module": "@jupyter-widgets/controls"
          }
        },
        "bc33d9ac837b4a1c98402f6904780b44": {
          "model_module": "@jupyter-widgets/base",
          "model_name": "LayoutModel",
          "state": {
            "_view_name": "LayoutView",
            "grid_template_rows": null,
            "right": null,
            "justify_content": null,
            "_view_module": "@jupyter-widgets/base",
            "overflow": null,
            "_model_module_version": "1.2.0",
            "_view_count": null,
            "flex_flow": null,
            "width": null,
            "min_width": null,
            "border": null,
            "align_items": null,
            "bottom": null,
            "_model_module": "@jupyter-widgets/base",
            "top": null,
            "grid_column": null,
            "overflow_y": null,
            "overflow_x": null,
            "grid_auto_flow": null,
            "grid_area": null,
            "grid_template_columns": null,
            "flex": null,
            "_model_name": "LayoutModel",
            "justify_items": null,
            "grid_row": null,
            "max_height": null,
            "align_content": null,
            "visibility": null,
            "align_self": null,
            "height": null,
            "min_height": null,
            "padding": null,
            "grid_auto_rows": null,
            "grid_gap": null,
            "max_width": null,
            "order": null,
            "_view_module_version": "1.2.0",
            "grid_template_areas": null,
            "object_position": null,
            "object_fit": null,
            "grid_auto_columns": null,
            "margin": null,
            "display": null,
            "left": null
          }
        },
        "9fde7fa1a82c4e4f94cdbc0d88385c61": {
          "model_module": "@jupyter-widgets/controls",
          "model_name": "DropdownModel",
          "state": {
            "_options_labels": [
              "Sepal Length",
              "Sepal Width",
              "Petal Length",
              "Petal Width"
            ],
            "_view_name": "DropdownView",
            "style": "IPY_MODEL_047f57b3565e491697c20fb4c0a4089e",
            "_dom_classes": [],
            "description": "Y-Axis:",
            "_model_name": "DropdownModel",
            "index": 1,
            "_view_module": "@jupyter-widgets/controls",
            "_model_module_version": "1.5.0",
            "_view_count": null,
            "disabled": false,
            "_view_module_version": "1.5.0",
            "description_tooltip": null,
            "_model_module": "@jupyter-widgets/controls",
            "layout": "IPY_MODEL_730a7f4234c54faab80e609cf524fe11"
          }
        },
        "047f57b3565e491697c20fb4c0a4089e": {
          "model_module": "@jupyter-widgets/controls",
          "model_name": "DescriptionStyleModel",
          "state": {
            "_view_name": "StyleView",
            "_model_name": "DescriptionStyleModel",
            "description_width": "",
            "_view_module": "@jupyter-widgets/base",
            "_model_module_version": "1.5.0",
            "_view_count": null,
            "_view_module_version": "1.2.0",
            "_model_module": "@jupyter-widgets/controls"
          }
        },
        "730a7f4234c54faab80e609cf524fe11": {
          "model_module": "@jupyter-widgets/base",
          "model_name": "LayoutModel",
          "state": {
            "_view_name": "LayoutView",
            "grid_template_rows": null,
            "right": null,
            "justify_content": null,
            "_view_module": "@jupyter-widgets/base",
            "overflow": null,
            "_model_module_version": "1.2.0",
            "_view_count": null,
            "flex_flow": null,
            "width": null,
            "min_width": null,
            "border": null,
            "align_items": null,
            "bottom": null,
            "_model_module": "@jupyter-widgets/base",
            "top": null,
            "grid_column": null,
            "overflow_y": null,
            "overflow_x": null,
            "grid_auto_flow": null,
            "grid_area": null,
            "grid_template_columns": null,
            "flex": null,
            "_model_name": "LayoutModel",
            "justify_items": null,
            "grid_row": null,
            "max_height": null,
            "align_content": null,
            "visibility": null,
            "align_self": null,
            "height": null,
            "min_height": null,
            "padding": null,
            "grid_auto_rows": null,
            "grid_gap": null,
            "max_width": null,
            "order": null,
            "_view_module_version": "1.2.0",
            "grid_template_areas": null,
            "object_position": null,
            "object_fit": null,
            "grid_auto_columns": null,
            "margin": null,
            "display": null,
            "left": null
          }
        },
        "49f3d05fc367424c8030eaff3177118e": {
          "model_module": "@jupyter-widgets/controls",
          "model_name": "VBoxModel",
          "state": {
            "_view_name": "VBoxView",
            "_dom_classes": [
              "widget-interact"
            ],
            "_model_name": "VBoxModel",
            "_view_module": "@jupyter-widgets/controls",
            "_model_module_version": "1.5.0",
            "_view_count": null,
            "_view_module_version": "1.5.0",
            "box_style": "",
            "layout": "IPY_MODEL_ae91ef85ddaf4827b7da06f49097fe73",
            "_model_module": "@jupyter-widgets/controls",
            "children": [
              "IPY_MODEL_93c1de18d0244c1184d7b7ac05e11522",
              "IPY_MODEL_9fde7fa1a82c4e4f94cdbc0d88385c61",
              "IPY_MODEL_b6962ffde86b4b3e8c30f3426520a179",
              "IPY_MODEL_cd883016a8b147ffa62f1e86bc91eccb",
              "IPY_MODEL_8fa927c081a047dbb0315941398367a8",
              "IPY_MODEL_7ba42e6dc0f5417dbf5773dc85365a1f"
            ]
          }
        },
        "ae91ef85ddaf4827b7da06f49097fe73": {
          "model_module": "@jupyter-widgets/base",
          "model_name": "LayoutModel",
          "state": {
            "_view_name": "LayoutView",
            "grid_template_rows": null,
            "right": null,
            "justify_content": null,
            "_view_module": "@jupyter-widgets/base",
            "overflow": null,
            "_model_module_version": "1.2.0",
            "_view_count": null,
            "flex_flow": null,
            "width": null,
            "min_width": null,
            "border": null,
            "align_items": null,
            "bottom": null,
            "_model_module": "@jupyter-widgets/base",
            "top": null,
            "grid_column": null,
            "overflow_y": null,
            "overflow_x": null,
            "grid_auto_flow": null,
            "grid_area": null,
            "grid_template_columns": null,
            "flex": null,
            "_model_name": "LayoutModel",
            "justify_items": null,
            "grid_row": null,
            "max_height": null,
            "align_content": null,
            "visibility": null,
            "align_self": null,
            "height": null,
            "min_height": null,
            "padding": null,
            "grid_auto_rows": null,
            "grid_gap": null,
            "max_width": null,
            "order": null,
            "_view_module_version": "1.2.0",
            "grid_template_areas": null,
            "object_position": null,
            "object_fit": null,
            "grid_auto_columns": null,
            "margin": null,
            "display": null,
            "left": null
          }
        },
        "7ba42e6dc0f5417dbf5773dc85365a1f": {
          "model_module": "@jupyter-widgets/output",
          "model_name": "OutputModel",
          "state": {
            "_view_name": "OutputView",
            "msg_id": "",
            "_dom_classes": [],
            "_model_name": "OutputModel",
            "outputs": [
              {
                "output_type": "display_data",
                "metadata": {
                  "tags": []
                },
                "image/png": "iVBORw0KGgoAAAANSUhEUgAAAYUAAAEJCAYAAAB7UTvrAAAABHNCSVQICAgIfAhkiAAAAAlwSFlz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\n4hH7SnwAAAAASUVORK5CYII=\n",
                "text/plain": "<Figure size 432x288 with 1 Axes>"
              }
            ],
            "_view_module": "@jupyter-widgets/output",
            "_model_module_version": "1.0.0",
            "_view_count": null,
            "_view_module_version": "1.0.0",
            "layout": "IPY_MODEL_ca31125412e849c7b43b75a955125c5d",
            "_model_module": "@jupyter-widgets/output"
          }
        }
      }
    }
  },
  "cells": [
    {
      "cell_type": "code",
      "metadata": {
        "id": "1E01gS82my8h",
        "colab_type": "code",
        "colab": {}
      },
      "source": [
        "from ipywidgets import widgets"
      ],
      "execution_count": 0,
      "outputs": []
    },
    {
      "cell_type": "code",
      "metadata": {
        "id": "V6lo2FCgm0AB",
        "colab_type": "code",
        "outputId": "6c5cf3e8-ea50-4416-930c-3bd14deaaad2",
        "colab": {
          "base_uri": "https://localhost:8080/",
          "height": 79,
          "referenced_widgets": [
            "b6962ffde86b4b3e8c30f3426520a179",
            "c78b7b2541b846df94facbe158282a42",
            "b9e256133b804ece927ecaf8ed7126cb",
            "cd883016a8b147ffa62f1e86bc91eccb",
            "d8cc6d5614a343e892a10b3759e3976c",
            "496afabf093244ae98a74dd5357c868f"
          ]
        }
      },
      "source": [
        "x_range = widgets.FloatRangeSlider(value=[2,7],\n",
        "                                  min=0,\n",
        "                                  max=10.,\n",
        "                                  step=0.1,\n",
        "                                  description='X-Range: ',\n",
        "                                  readout_format='.1f')\n",
        "display(x_range)\n",
        "\n",
        "y_range = widgets.FloatRangeSlider(value=[2,7],\n",
        "                                  min=0,\n",
        "                                  max=10.,\n",
        "                                  step=0.1,\n",
        "                                  description='Y-Range: ',\n",
        "                                  readout_format='.1f')\n",
        "display(y_range)"
      ],
      "execution_count": 0,
      "outputs": [
        {
          "output_type": "display_data",
          "data": {
            "application/vnd.jupyter.widget-view+json": {
              "model_id": "b6962ffde86b4b3e8c30f3426520a179",
              "version_minor": 0,
              "version_major": 2
            },
            "text/plain": [
              "FloatRangeSlider(value=(2.0, 7.0), description='X-Range: ', max=10.0, readout_format='.1f')"
            ]
          },
          "metadata": {
            "tags": []
          }
        },
        {
          "output_type": "display_data",
          "data": {
            "application/vnd.jupyter.widget-view+json": {
              "model_id": "cd883016a8b147ffa62f1e86bc91eccb",
              "version_minor": 0,
              "version_major": 2
            },
            "text/plain": [
              "FloatRangeSlider(value=(2.0, 7.0), description='Y-Range: ', max=10.0, readout_format='.1f')"
            ]
          },
          "metadata": {
            "tags": []
          }
        }
      ]
    },
    {
      "cell_type": "code",
      "metadata": {
        "id": "nIFE2VuTm0DJ",
        "colab_type": "code",
        "outputId": "57584e10-af96-42f2-e1eb-205c73ebc7d1",
        "colab": {
          "base_uri": "https://localhost:8080/",
          "height": 49,
          "referenced_widgets": [
            "8fa927c081a047dbb0315941398367a8",
            "a9fe084dd17444559d69eef288272469",
            "39342e7201cc45b68146035c7c11ad81"
          ]
        }
      },
      "source": [
        "species_button = widgets.ToggleButton(\n",
        "    value=False,\n",
        "    description='Show Species')\n",
        "display(species_button)"
      ],
      "execution_count": 0,
      "outputs": [
        {
          "output_type": "display_data",
          "data": {
            "application/vnd.jupyter.widget-view+json": {
              "model_id": "8fa927c081a047dbb0315941398367a8",
              "version_minor": 0,
              "version_major": 2
            },
            "text/plain": [
              "ToggleButton(value=False, description='Show Species')"
            ]
          },
          "metadata": {
            "tags": []
          }
        }
      ]
    },
    {
      "cell_type": "code",
      "metadata": {
        "id": "oDuvClksm0Gx",
        "colab_type": "code",
        "outputId": "668a599d-473a-4a21-9ac7-0b492723c4e8",
        "colab": {
          "base_uri": "https://localhost:8080/",
          "height": 79,
          "referenced_widgets": [
            "93c1de18d0244c1184d7b7ac05e11522",
            "c9da6a4df77642da918fff628e36aa83",
            "bc33d9ac837b4a1c98402f6904780b44",
            "9fde7fa1a82c4e4f94cdbc0d88385c61",
            "047f57b3565e491697c20fb4c0a4089e",
            "730a7f4234c54faab80e609cf524fe11"
          ]
        }
      },
      "source": [
        "feature_x_select = widgets.Dropdown(\n",
        "    value=2,\n",
        "    options=[('Sepal Length',0), ('Sepal Width',1),\n",
        "            ('Petal Length',2), ('Petal Width',3)],\n",
        "    description='X-Axis:')\n",
        "\n",
        "display(feature_x_select)\n",
        "\n",
        "feature_y_select = widgets.Dropdown(\n",
        "    value=2,\n",
        "    options=[('Sepal Length',0), ('Sepal Width',1),\n",
        "            ('Petal Length',2), ('Petal Width',3)],\n",
        "    description='Y-Axis:')\n",
        "\n",
        "display(feature_y_select)"
      ],
      "execution_count": 0,
      "outputs": [
        {
          "output_type": "display_data",
          "data": {
            "application/vnd.jupyter.widget-view+json": {
              "model_id": "93c1de18d0244c1184d7b7ac05e11522",
              "version_minor": 0,
              "version_major": 2
            },
            "text/plain": [
              "Dropdown(description='X-Axis:', index=2, options=(('Sepal Length', 0), ('Sepal Width', 1), ('Petal Length', 2)…"
            ]
          },
          "metadata": {
            "tags": []
          }
        },
        {
          "output_type": "display_data",
          "data": {
            "application/vnd.jupyter.widget-view+json": {
              "model_id": "9fde7fa1a82c4e4f94cdbc0d88385c61",
              "version_minor": 0,
              "version_major": 2
            },
            "text/plain": [
              "Dropdown(description='Y-Axis:', index=2, options=(('Sepal Length', 0), ('Sepal Width', 1), ('Petal Length', 2)…"
            ]
          },
          "metadata": {
            "tags": []
          }
        }
      ]
    },
    {
      "cell_type": "code",
      "metadata": {
        "id": "n-IBoE8-mcU5",
        "colab_type": "code",
        "colab": {}
      },
      "source": [
        "from ipywidgets import interactive, widgets, fixed\n",
        "\n",
        "import numpy as np\n",
        "import matplotlib.pyplot as plt\n",
        "\n",
        "from sklearn import datasets\n",
        "iris = datasets.load_iris()"
      ],
      "execution_count": 0,
      "outputs": []
    },
    {
      "cell_type": "code",
      "metadata": {
        "id": "szCPB6ZjmcVC",
        "colab_type": "code",
        "colab": {}
      },
      "source": [
        "def plot_iris_data(iris,\n",
        "                  feature_x, feature_y,\n",
        "                  x_limits, y_limits,\n",
        "                   colorby):\n",
        "    if colorby:\n",
        "        marker_color = iris.target\n",
        "        \n",
        "    else:\n",
        "        marker_color = 'k'\n",
        "        \n",
        "    fig, ax = plt.subplots()\n",
        "    \n",
        "    ax.scatter(iris.data[:, feature_x],\n",
        "               iris.data[:, feature_y],\n",
        "               c=marker_color,\n",
        "               cmap=plt.cm.get_cmap('viridis', 3))\n",
        "    \n",
        "    ax.set(xlim=x_limits,\n",
        "           ylim=y_limits)\n",
        "    \n",
        "    ax.set_xlabel(iris.feature_names[feature_x],\n",
        "                  fontsize=12)\n",
        "    ax.set_ylabel(iris.feature_names[feature_y],\n",
        "                  fontsize=12)"
      ],
      "execution_count": 0,
      "outputs": []
    },
    {
      "cell_type": "code",
      "metadata": {
        "id": "hAaV2oJbmcVJ",
        "colab_type": "code",
        "outputId": "31d1bad1-6e61-44de-abc2-47cc4994f312",
        "colab": {
          "base_uri": "https://localhost:8080/",
          "height": 442,
          "referenced_widgets": [
            "49f3d05fc367424c8030eaff3177118e",
            "ae91ef85ddaf4827b7da06f49097fe73",
            "93c1de18d0244c1184d7b7ac05e11522",
            "9fde7fa1a82c4e4f94cdbc0d88385c61",
            "b6962ffde86b4b3e8c30f3426520a179",
            "cd883016a8b147ffa62f1e86bc91eccb",
            "8fa927c081a047dbb0315941398367a8",
            "7ba42e6dc0f5417dbf5773dc85365a1f",
            "c9da6a4df77642da918fff628e36aa83",
            "bc33d9ac837b4a1c98402f6904780b44",
            "047f57b3565e491697c20fb4c0a4089e",
            "730a7f4234c54faab80e609cf524fe11",
            "c78b7b2541b846df94facbe158282a42",
            "b9e256133b804ece927ecaf8ed7126cb",
            "d8cc6d5614a343e892a10b3759e3976c",
            "496afabf093244ae98a74dd5357c868f",
            "a9fe084dd17444559d69eef288272469",
            "39342e7201cc45b68146035c7c11ad81"
          ]
        }
      },
      "source": [
        "interactive(plot_iris_data,\n",
        "           iris=fixed(iris),\n",
        "           feature_x=feature_x_select,\n",
        "           feature_y=feature_y_select,\n",
        "           x_limits=x_range,\n",
        "           y_limits=y_range,\n",
        "           colorby=species_button)"
      ],
      "execution_count": 0,
      "outputs": [
        {
          "output_type": "display_data",
          "data": {
            "application/vnd.jupyter.widget-view+json": {
              "model_id": "49f3d05fc367424c8030eaff3177118e",
              "version_minor": 0,
              "version_major": 2
            },
            "text/plain": [
              "interactive(children=(Dropdown(description='X-Axis:', index=2, options=(('Sepal Length', 0), ('Sepal Width', 1…"
            ]
          },
          "metadata": {
            "tags": []
          }
        }
      ]
    },
    {
      "cell_type": "code",
      "metadata": {
        "id": "xFBOcrQumcVM",
        "colab_type": "code",
        "colab": {}
      },
      "source": [
        ""
      ],
      "execution_count": 0,
      "outputs": []
    },
    {
      "cell_type": "code",
      "metadata": {
        "id": "etZHbh8OmcVO",
        "colab_type": "code",
        "colab": {}
      },
      "source": [
        ""
      ],
      "execution_count": 0,
      "outputs": []
    }
  ]
}